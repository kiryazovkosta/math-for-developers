{
 "cells": [
  {
   "cell_type": "code",
   "execution_count": 13,
   "id": "6ad432be",
   "metadata": {},
   "outputs": [],
   "source": [
    "import numpy as np"
   ]
  },
  {
   "cell_type": "markdown",
   "id": "45f2c9a6",
   "metadata": {},
   "source": [
    "# On the generation of even numbers"
   ]
  },
  {
   "cell_type": "markdown",
   "id": "12832059",
   "metadata": {},
   "source": [
    "## Author: Kosta Kiryazov"
   ]
  },
  {
   "cell_type": "markdown",
   "id": "a6d982df",
   "metadata": {},
   "source": [
    "### Introduction\n",
    "#### Numbers\n",
    "This is some text.This is some text.This is some text.\n",
    "#### Odd and even number\n",
    "This is some text.This is some text.This is some text.This is some text."
   ]
  },
  {
   "cell_type": "markdown",
   "id": "7a7d2bf2",
   "metadata": {},
   "source": [
    "#### Mathematical defenition\n",
    "$$ x \\in \\mathbb{N} : x \\mod 2 = 1 $$ "
   ]
  },
  {
   "cell_type": "markdown",
   "id": "e843d6f4",
   "metadata": {},
   "source": [
    "### Methods\n",
    "#### Generation with Python\n",
    "We can use functions ..."
   ]
  },
  {
   "cell_type": "code",
   "execution_count": 14,
   "id": "cefd690d",
   "metadata": {},
   "outputs": [],
   "source": [
    "def is_odd(n: int)-> bool:\n",
    "    return n % 2 != 0"
   ]
  },
  {
   "cell_type": "markdown",
   "id": "69823980",
   "metadata": {},
   "source": [
    "Examples:"
   ]
  },
  {
   "cell_type": "code",
   "execution_count": 15,
   "id": "ddf6b320",
   "metadata": {},
   "outputs": [
    {
     "name": "stdout",
     "output_type": "stream",
     "text": [
      "1 is odd True\n",
      "0 is odd False\n",
      "5 is odd True\n",
      "2 is odd False\n",
      "-4 is odd False\n",
      "-7 is odd True\n"
     ]
    }
   ],
   "source": [
    "number = 1\n",
    "print(f\"{number} is odd {is_odd(number)}\")\n",
    "number = 0\n",
    "print(f\"{number} is odd {is_odd(number)}\")\n",
    "number = 5\n",
    "print(f\"{number} is odd {is_odd(number)}\")\n",
    "number = 2\n",
    "print(f\"{number} is odd {is_odd(number)}\")\n",
    "number = -4\n",
    "print(f\"{number} is odd {is_odd(number)}\")\n",
    "number = -7\n",
    "print(f\"{number} is odd {is_odd(number)}\")"
   ]
  },
  {
   "cell_type": "markdown",
   "id": "00ee2d9d",
   "metadata": {},
   "source": [
    "### Conclusion and remark\n",
    "What we did was important because ...\n",
    "\n",
    "We achived..."
   ]
  },
  {
   "cell_type": "markdown",
   "id": "df841dbf",
   "metadata": {},
   "source": [
    "### Bibliography / References\n",
    "1. reference\n",
    "2. reference\n",
    "3. reference"
   ]
  }
 ],
 "metadata": {
  "kernelspec": {
   "display_name": "juplab-env",
   "language": "python",
   "name": "python3"
  },
  "language_info": {
   "codemirror_mode": {
    "name": "ipython",
    "version": 3
   },
   "file_extension": ".py",
   "mimetype": "text/x-python",
   "name": "python",
   "nbconvert_exporter": "python",
   "pygments_lexer": "ipython3",
   "version": "3.13.2"
  }
 },
 "nbformat": 4,
 "nbformat_minor": 5
}
